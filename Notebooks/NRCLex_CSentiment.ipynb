{
 "cells": [
  {
   "cell_type": "code",
   "execution_count": 1,
   "id": "c74e9bd1",
   "metadata": {},
   "outputs": [],
   "source": [
    "import pandas as pd\n",
    "import warnings\n",
    "warnings.simplefilter(action='ignore', category=FutureWarning)"
   ]
  },
  {
   "cell_type": "code",
   "execution_count": 43,
   "id": "c17ffeb3",
   "metadata": {},
   "outputs": [],
   "source": [
    "df = pd.read_csv(r\"C:\\Users\\user\\Desktop\\MBA_CAP_2\\4_DataSets\\Test103_Cleaned_Ext.csv\",encoding= 'ISO-8859-1', low_memory=False).drop(columns=[\"Unnamed: 0\"]) "
   ]
  },
  {
   "cell_type": "code",
   "execution_count": 5,
   "id": "89eb604d",
   "metadata": {},
   "outputs": [
    {
     "name": "stderr",
     "output_type": "stream",
     "text": [
      "[nltk_data] Error loading stopwords: <urlopen error [WinError 10054]\n",
      "[nltk_data]     An existing connection was forcibly closed by the\n",
      "[nltk_data]     remote host>\n"
     ]
    }
   ],
   "source": [
    "import nltk\n",
    "from nltk import FreqDist\n",
    "nltk.download('stopwords') # run this one time\n",
    "import pandas as pd \n",
    "pd.set_option(\"display.max_colwidth\", 200) \n",
    "import numpy as np \n",
    "import re \n",
    "# libraries for visualization \n",
    "# import pyLDAvis \n",
    "# import pyLDAvis.gensim_models as gensimvis\n",
    "import matplotlib.pyplot as plt \n",
    "import seaborn as sns \n",
    "%matplotlib inline"
   ]
  },
  {
   "cell_type": "code",
   "execution_count": 44,
   "id": "1041ba50",
   "metadata": {},
   "outputs": [
    {
     "data": {
      "text/html": [
       "<div>\n",
       "<style scoped>\n",
       "    .dataframe tbody tr th:only-of-type {\n",
       "        vertical-align: middle;\n",
       "    }\n",
       "\n",
       "    .dataframe tbody tr th {\n",
       "        vertical-align: top;\n",
       "    }\n",
       "\n",
       "    .dataframe thead th {\n",
       "        text-align: right;\n",
       "    }\n",
       "</style>\n",
       "<table border=\"1\" class=\"dataframe\">\n",
       "  <thead>\n",
       "    <tr style=\"text-align: right;\">\n",
       "      <th></th>\n",
       "      <th>Name</th>\n",
       "      <th>Tweet_Date</th>\n",
       "      <th>Tweet</th>\n",
       "    </tr>\n",
       "  </thead>\n",
       "  <tbody>\n",
       "    <tr>\n",
       "      <th>0</th>\n",
       "      <td>Ally_Kayyy</td>\n",
       "      <td>2023-03-04 23:59</td>\n",
       "      <td>Some customer came in and said I looked like a fairy and thatll be up there with one of the best things anyone has said to me</td>\n",
       "    </tr>\n",
       "    <tr>\n",
       "      <th>1</th>\n",
       "      <td>PaytmBa74630656</td>\n",
       "      <td>2023-03-04 23:59</td>\n",
       "      <td>Hi we are here to help you Please share us your mobile number registered with Paytm via DM so that we paytm handle customer care number8260429689 Thanks</td>\n",
       "    </tr>\n",
       "    <tr>\n",
       "      <th>2</th>\n",
       "      <td>_Marquita_R</td>\n",
       "      <td>2023-03-04 23:59</td>\n",
       "      <td>Stop tellin Chris Rock to let it go That man got a fresh Skibbity Pap in front of MILLIONS If that was me im</td>\n",
       "    </tr>\n",
       "    <tr>\n",
       "      <th>3</th>\n",
       "      <td>pkrao20</td>\n",
       "      <td>2023-03-04 23:59</td>\n",
       "      <td>_gadkari Order ID OET261370523081022WDO125 scooter not delivered after 15 months Ola team Cut my call every time when I called customer care They took my 15 Lakh amount and even not cancelling my...</td>\n",
       "    </tr>\n",
       "    <tr>\n",
       "      <th>4</th>\n",
       "      <td>PaytmBa74630656</td>\n",
       "      <td>2023-03-04 23:59</td>\n",
       "      <td>Hi we are here to help you Please share us your mobile number registered with Paytm via DM so that we paytm handle customer care number8260429689 Thanks</td>\n",
       "    </tr>\n",
       "  </tbody>\n",
       "</table>\n",
       "</div>"
      ],
      "text/plain": [
       "              Name        Tweet_Date  \\\n",
       "0       Ally_Kayyy  2023-03-04 23:59   \n",
       "1  PaytmBa74630656  2023-03-04 23:59   \n",
       "2      _Marquita_R  2023-03-04 23:59   \n",
       "3          pkrao20  2023-03-04 23:59   \n",
       "4  PaytmBa74630656  2023-03-04 23:59   \n",
       "\n",
       "                                                                                                                                                                                                     Tweet  \n",
       "0                                                                            Some customer came in and said I looked like a fairy and thatll be up there with one of the best things anyone has said to me  \n",
       "1                                                Hi we are here to help you Please share us your mobile number registered with Paytm via DM so that we paytm handle customer care number8260429689 Thanks   \n",
       "2                                                                                             Stop tellin Chris Rock to let it go That man got a fresh Skibbity Pap in front of MILLIONS If that was me im  \n",
       "3   _gadkari Order ID OET261370523081022WDO125 scooter not delivered after 15 months Ola team Cut my call every time when I called customer care They took my 15 Lakh amount and even not cancelling my...  \n",
       "4                                                Hi we are here to help you Please share us your mobile number registered with Paytm via DM so that we paytm handle customer care number8260429689 Thanks   "
      ]
     },
     "execution_count": 44,
     "metadata": {},
     "output_type": "execute_result"
    }
   ],
   "source": [
    "df.head()"
   ]
  },
  {
   "cell_type": "code",
   "execution_count": 7,
   "id": "5bb40c80",
   "metadata": {},
   "outputs": [],
   "source": [
    "# function to plot most frequent terms \n",
    "def freq_words(x, terms = 10): \n",
    "  all_words = ' '.join([text for text in x]) \n",
    "  all_words = all_words.split() \n",
    "  fdist = FreqDist(all_words) \n",
    "  words_df = pd.DataFrame({'word':list(fdist.keys()),   \n",
    "             'count':list(fdist.values())}) \n",
    "  # selecting top 10 most frequent words \n",
    "  d = words_df.nlargest(columns=\"count\", n = terms)      \n",
    "  plt.figure(figsize=(30,7.5)) \n",
    "  ax = sns.barplot(data=d, x= \"word\", y = \"count\") \n",
    "  ax.set_ylabel('Count',fontsize=21)\n",
    "  ax.set_xlabel(\"Word\", fontsize=21)\n",
    "  ax.set_title('Top words in Tweets',fontsize=23)\n",
    "  ax.tick_params(axis='x', labelsize=15, rotation=45)\n",
    "  plt.show()"
   ]
  },
  {
   "cell_type": "code",
   "execution_count": 8,
   "id": "fb28be70",
   "metadata": {},
   "outputs": [],
   "source": [
    "tweet = df['Tweet'].head()"
   ]
  },
  {
   "cell_type": "code",
   "execution_count": 9,
   "id": "c21d8e71",
   "metadata": {},
   "outputs": [
    {
     "data": {
      "image/png": "[encoded data removed]",
      "text/plain": [
       "<Figure size 2160x540 with 1 Axes>"
      ]
     },
     "metadata": {
      "needs_background": "light"
     },
     "output_type": "display_data"
    }
   ],
   "source": [
    "freq_words(tweet, 10)"
   ]
  },
  {
   "cell_type": "code",
   "execution_count": 45,
   "id": "60a301ed",
   "metadata": {},
   "outputs": [
    {
     "name": "stdout",
     "output_type": "stream",
     "text": [
      "['help', 'please', 'share', 'mobile', 'number', 'registered', 'paytm', 'paytm', 'handle', 'customer', 'care', 'number8260429689', 'thanks']\n"
     ]
    }
   ],
   "source": [
    "tokenized_reviews_d = pd.Series(tweet).apply(lambda x: x.split())\n",
    "print(tokenized_reviews_d[1])"
   ]
  },
  {
   "cell_type": "code",
   "execution_count": 46,
   "id": "b8759cc1",
   "metadata": {},
   "outputs": [],
   "source": [
    "from nltk.corpus import stopwords \n",
    "stop_words = stopwords.words('english')"
   ]
  },
  {
   "cell_type": "code",
   "execution_count": 47,
   "id": "250461a7",
   "metadata": {},
   "outputs": [],
   "source": [
    "# function to remove stopwords \n",
    "def remove_stopwords(rev):     \n",
    "  rev_new = \" \".join([i for i in rev if i not in stop_words])      \n",
    "  return rev_new "
   ]
  },
  {
   "cell_type": "code",
   "execution_count": 48,
   "id": "0007be9b",
   "metadata": {},
   "outputs": [],
   "source": [
    "# remove short words (length < 3) \n",
    "df['Tweet'] = df['Tweet'].astype(str).apply(lambda x: ' '.join([w for w in x.split() if len(w)>3])) \n",
    "# remove stopwords from the text \n",
    "tweet = [remove_stopwords(r.split()) for r in df['Tweet']] \n",
    "# make entire text lowercase \n",
    "tweet = [r.lower() for r in tweet]"
   ]
  },
  {
   "cell_type": "code",
   "execution_count": 49,
   "id": "09ed1b4d",
   "metadata": {},
   "outputs": [
    {
     "data": {
      "image/png": "[encoded data removed]",
      "text/plain": [
       "<Figure size 2160x540 with 1 Axes>"
      ]
     },
     "metadata": {
      "needs_background": "light"
     },
     "output_type": "display_data"
    }
   ],
   "source": [
    "freq_words(tweet, 10)"
   ]
  },
  {
   "cell_type": "code",
   "execution_count": 50,
   "id": "5a686ada",
   "metadata": {},
   "outputs": [
    {
     "data": {
      "text/html": [
       "<div>\n",
       "<style scoped>\n",
       "    .dataframe tbody tr th:only-of-type {\n",
       "        vertical-align: middle;\n",
       "    }\n",
       "\n",
       "    .dataframe tbody tr th {\n",
       "        vertical-align: top;\n",
       "    }\n",
       "\n",
       "    .dataframe thead th {\n",
       "        text-align: right;\n",
       "    }\n",
       "</style>\n",
       "<table border=\"1\" class=\"dataframe\">\n",
       "  <thead>\n",
       "    <tr style=\"text-align: right;\">\n",
       "      <th></th>\n",
       "      <th>Name</th>\n",
       "      <th>Tweet_Date</th>\n",
       "      <th>Tweet</th>\n",
       "    </tr>\n",
       "  </thead>\n",
       "  <tbody>\n",
       "    <tr>\n",
       "      <th>0</th>\n",
       "      <td>Ally_Kayyy</td>\n",
       "      <td>2023-03-04 23:59</td>\n",
       "      <td>Some customer came said looked like fairy thatll there with best things anyone said</td>\n",
       "    </tr>\n",
       "    <tr>\n",
       "      <th>1</th>\n",
       "      <td>PaytmBa74630656</td>\n",
       "      <td>2023-03-04 23:59</td>\n",
       "      <td>here help Please share your mobile number registered with Paytm that paytm handle customer care number8260429689 Thanks</td>\n",
       "    </tr>\n",
       "    <tr>\n",
       "      <th>2</th>\n",
       "      <td>_Marquita_R</td>\n",
       "      <td>2023-03-04 23:59</td>\n",
       "      <td>Stop tellin Chris Rock That fresh Skibbity front MILLIONS that</td>\n",
       "    </tr>\n",
       "    <tr>\n",
       "      <th>3</th>\n",
       "      <td>pkrao20</td>\n",
       "      <td>2023-03-04 23:59</td>\n",
       "      <td>_gadkari Order OET261370523081022WDO125 scooter delivered after months team call every time when called customer care They took Lakh amount even cancelling order centre govt</td>\n",
       "    </tr>\n",
       "    <tr>\n",
       "      <th>4</th>\n",
       "      <td>PaytmBa74630656</td>\n",
       "      <td>2023-03-04 23:59</td>\n",
       "      <td>here help Please share your mobile number registered with Paytm that paytm handle customer care number8260429689 Thanks</td>\n",
       "    </tr>\n",
       "  </tbody>\n",
       "</table>\n",
       "</div>"
      ],
      "text/plain": [
       "              Name        Tweet_Date  \\\n",
       "0       Ally_Kayyy  2023-03-04 23:59   \n",
       "1  PaytmBa74630656  2023-03-04 23:59   \n",
       "2      _Marquita_R  2023-03-04 23:59   \n",
       "3          pkrao20  2023-03-04 23:59   \n",
       "4  PaytmBa74630656  2023-03-04 23:59   \n",
       "\n",
       "                                                                                                                                                                           Tweet  \n",
       "0                                                                                            Some customer came said looked like fairy thatll there with best things anyone said  \n",
       "1                                                        here help Please share your mobile number registered with Paytm that paytm handle customer care number8260429689 Thanks  \n",
       "2                                                                                                                 Stop tellin Chris Rock That fresh Skibbity front MILLIONS that  \n",
       "3  _gadkari Order OET261370523081022WDO125 scooter delivered after months team call every time when called customer care They took Lakh amount even cancelling order centre govt  \n",
       "4                                                        here help Please share your mobile number registered with Paytm that paytm handle customer care number8260429689 Thanks  "
      ]
     },
     "execution_count": 50,
     "metadata": {},
     "output_type": "execute_result"
    }
   ],
   "source": [
    "df.head()"
   ]
  },
  {
   "cell_type": "code",
   "execution_count": 51,
   "id": "2fdb72ce",
   "metadata": {},
   "outputs": [],
   "source": [
    "# Word Cloud\n",
    "from wordcloud import WordCloud, STOPWORDS"
   ]
  },
  {
   "cell_type": "code",
   "execution_count": 52,
   "id": "74acb329",
   "metadata": {},
   "outputs": [],
   "source": [
    "allWords = ' '.join([twts for twts in df[\"Tweet\"]])\n",
    "exclude_words = {\"customer\", \"customer service\",\"n't\",'experience',\"team\",\"support\",\"issue\",\"made\",\"will\",\"product\",\"business\",\"company\",\"service\",\"said\"}"
   ]
  },
  {
   "cell_type": "code",
   "execution_count": 53,
   "id": "4f5f68b6",
   "metadata": {},
   "outputs": [
    {
     "data": {
      "image/png": "[encoded data removed]",
      "text/plain": [
       "<Figure size 432x288 with 1 Axes>"
      ]
     },
     "metadata": {
      "needs_background": "light"
     },
     "output_type": "display_data"
    }
   ],
   "source": [
    "wordCloud = WordCloud(stopwords=STOPWORDS.union(exclude_words),width = 1100, height = 550,max_words=100 ,random_state = 21, max_font_size = 119).generate(allWords)\n",
    "plt.imshow(wordCloud, interpolation = 'bilinear')\n",
    "plt.axis('off')\n",
    "plt.show()"
   ]
  },
  {
   "cell_type": "code",
   "execution_count": 18,
   "id": "006f315e",
   "metadata": {},
   "outputs": [],
   "source": [
    "import nltk"
   ]
  },
  {
   "cell_type": "code",
   "execution_count": 59,
   "id": "7419b4fa",
   "metadata": {},
   "outputs": [],
   "source": [
    "# nltk.download('punkt')\n",
    "# nltk.download('wordnet')"
   ]
  },
  {
   "cell_type": "code",
   "execution_count": 19,
   "id": "629e3bcb",
   "metadata": {},
   "outputs": [],
   "source": [
    "from nltk.stem import WordNetLemmatizer\n",
    "from nltk.tokenize import word_tokenize\n",
    "\n",
    "# Initialize lemmatizer\n",
    "lemmatizer = WordNetLemmatizer()"
   ]
  },
  {
   "cell_type": "code",
   "execution_count": 20,
   "id": "41a5bd5c",
   "metadata": {},
   "outputs": [],
   "source": [
    "# Define function to apply lemmatization to a single text string\n",
    "def lemmatize_text(text):\n",
    "    # Tokenize text into individual words\n",
    "    words = word_tokenize(text)\n",
    "    # Apply lemmatization to each word\n",
    "    lemmatized_words = [lemmatizer.lemmatize(word) for word in words]\n",
    "    # Join lemmatized words back into a single string\n",
    "    lemmatized_text = ' '.join(lemmatized_words)\n",
    "    return lemmatized_text"
   ]
  },
  {
   "cell_type": "code",
   "execution_count": 21,
   "id": "ade27186",
   "metadata": {},
   "outputs": [],
   "source": [
    "# Apply lemmatization to a single column of a dataframe\n",
    "df['Tweet'] = df['Tweet'].apply(lemmatize_text)"
   ]
  },
  {
   "cell_type": "code",
   "execution_count": 22,
   "id": "933a0016",
   "metadata": {},
   "outputs": [
    {
     "data": {
      "text/html": [
       "<div>\n",
       "<style scoped>\n",
       "    .dataframe tbody tr th:only-of-type {\n",
       "        vertical-align: middle;\n",
       "    }\n",
       "\n",
       "    .dataframe tbody tr th {\n",
       "        vertical-align: top;\n",
       "    }\n",
       "\n",
       "    .dataframe thead th {\n",
       "        text-align: right;\n",
       "    }\n",
       "</style>\n",
       "<table border=\"1\" class=\"dataframe\">\n",
       "  <thead>\n",
       "    <tr style=\"text-align: right;\">\n",
       "      <th></th>\n",
       "      <th>Name</th>\n",
       "      <th>Tweet_Date</th>\n",
       "      <th>Tweet</th>\n",
       "    </tr>\n",
       "  </thead>\n",
       "  <tbody>\n",
       "    <tr>\n",
       "      <th>0</th>\n",
       "      <td>Ally_Kayyy</td>\n",
       "      <td>2023-03-04 23:59</td>\n",
       "      <td>Some customer came said looked like fairy thatll there with best thing anyone said</td>\n",
       "    </tr>\n",
       "    <tr>\n",
       "      <th>1</th>\n",
       "      <td>PaytmBa74630656</td>\n",
       "      <td>2023-03-04 23:59</td>\n",
       "      <td>here help Please share your mobile number registered with Paytm that paytm handle customer care number8260429689 Thanks</td>\n",
       "    </tr>\n",
       "    <tr>\n",
       "      <th>2</th>\n",
       "      <td>_Marquita_R</td>\n",
       "      <td>2023-03-04 23:59</td>\n",
       "      <td>Stop tellin Chris Rock That fresh Skibbity front MILLIONS that</td>\n",
       "    </tr>\n",
       "    <tr>\n",
       "      <th>3</th>\n",
       "      <td>pkrao20</td>\n",
       "      <td>2023-03-04 23:59</td>\n",
       "      <td>_gadkari Order OET261370523081022WDO125 scooter delivered after month team call every time when called customer care They took Lakh amount even cancelling order centre govt</td>\n",
       "    </tr>\n",
       "    <tr>\n",
       "      <th>4</th>\n",
       "      <td>PaytmBa74630656</td>\n",
       "      <td>2023-03-04 23:59</td>\n",
       "      <td>here help Please share your mobile number registered with Paytm that paytm handle customer care number8260429689 Thanks</td>\n",
       "    </tr>\n",
       "  </tbody>\n",
       "</table>\n",
       "</div>"
      ],
      "text/plain": [
       "              Name        Tweet_Date  \\\n",
       "0       Ally_Kayyy  2023-03-04 23:59   \n",
       "1  PaytmBa74630656  2023-03-04 23:59   \n",
       "2      _Marquita_R  2023-03-04 23:59   \n",
       "3          pkrao20  2023-03-04 23:59   \n",
       "4  PaytmBa74630656  2023-03-04 23:59   \n",
       "\n",
       "                                                                                                                                                                          Tweet  \n",
       "0                                                                                            Some customer came said looked like fairy thatll there with best thing anyone said  \n",
       "1                                                       here help Please share your mobile number registered with Paytm that paytm handle customer care number8260429689 Thanks  \n",
       "2                                                                                                                Stop tellin Chris Rock That fresh Skibbity front MILLIONS that  \n",
       "3  _gadkari Order OET261370523081022WDO125 scooter delivered after month team call every time when called customer care They took Lakh amount even cancelling order centre govt  \n",
       "4                                                       here help Please share your mobile number registered with Paytm that paytm handle customer care number8260429689 Thanks  "
      ]
     },
     "execution_count": 22,
     "metadata": {},
     "output_type": "execute_result"
    }
   ],
   "source": [
    "df.head()"
   ]
  },
  {
   "cell_type": "code",
   "execution_count": 23,
   "id": "93721d84",
   "metadata": {},
   "outputs": [],
   "source": [
    "from nrclex import NRCLex"
   ]
  },
  {
   "cell_type": "code",
   "execution_count": 65,
   "id": "23ee5d3a",
   "metadata": {},
   "outputs": [],
   "source": [
    "text = 'Everything seems to be wrong with bugs'"
   ]
  },
  {
   "cell_type": "code",
   "execution_count": 66,
   "id": "a1217353",
   "metadata": {},
   "outputs": [],
   "source": [
    "emotion = NRCLex(text)\n",
    "j = emotion.top_emotions"
   ]
  },
  {
   "cell_type": "code",
   "execution_count": 67,
   "id": "90417a40",
   "metadata": {},
   "outputs": [
    {
     "data": {
      "text/plain": [
       "{'fear': 0.0,\n",
       " 'anger': 0.0,\n",
       " 'anticip': 0.0,\n",
       " 'trust': 0.0,\n",
       " 'surprise': 0.0,\n",
       " 'positive': 0.0,\n",
       " 'negative': 1.0,\n",
       " 'sadness': 0.0,\n",
       " 'disgust': 0.0,\n",
       " 'joy': 0.0}"
      ]
     },
     "execution_count": 67,
     "metadata": {},
     "output_type": "execute_result"
    }
   ],
   "source": [
    "a1 = emotion.affect_frequencies\n",
    "a1"
   ]
  },
  {
   "cell_type": "code",
   "execution_count": 24,
   "id": "4c8a3472",
   "metadata": {},
   "outputs": [],
   "source": [
    "def ext_emo(df):\n",
    "    k = []\n",
    "    for i in df:\n",
    "        txt = i\n",
    "        emotion = NRCLex(txt)\n",
    "        j = emotion.affect_frequencies\n",
    "        k.append(j)\n",
    "        df = pd.DataFrame(k, columns=[\"fear\",'anger','anticip','trust','surprise','positive','negative','sadness','disgust','joy',])\n",
    "        col_with_max_value = df.idxmax(axis=1)\n",
    "        df1 = pd.DataFrame(col_with_max_value, columns=['Emotions'])\n",
    "        df[\"Emotions\"] = df1['Emotions']\n",
    "        emotion_value = df.iloc[:,0:len(df)-1].max(axis=1)\n",
    "        emotion_value_df = pd.DataFrame(emotion_value,columns=[\"Top_Value\"])\n",
    "        df[\"Emotions_Value\"] = emotion_value_df['Top_Value']\n",
    "    return df"
   ]
  },
  {
   "cell_type": "code",
   "execution_count": 25,
   "id": "bf72b5e8",
   "metadata": {},
   "outputs": [],
   "source": [
    "df1 = ext_emo(df['Tweet'])"
   ]
  },
  {
   "cell_type": "code",
   "execution_count": 26,
   "id": "088a35df",
   "metadata": {
    "scrolled": true
   },
   "outputs": [
    {
     "data": {
      "text/html": [
       "<div>\n",
       "<style scoped>\n",
       "    .dataframe tbody tr th:only-of-type {\n",
       "        vertical-align: middle;\n",
       "    }\n",
       "\n",
       "    .dataframe tbody tr th {\n",
       "        vertical-align: top;\n",
       "    }\n",
       "\n",
       "    .dataframe thead th {\n",
       "        text-align: right;\n",
       "    }\n",
       "</style>\n",
       "<table border=\"1\" class=\"dataframe\">\n",
       "  <thead>\n",
       "    <tr style=\"text-align: right;\">\n",
       "      <th></th>\n",
       "      <th>fear</th>\n",
       "      <th>anger</th>\n",
       "      <th>anticip</th>\n",
       "      <th>trust</th>\n",
       "      <th>surprise</th>\n",
       "      <th>positive</th>\n",
       "      <th>negative</th>\n",
       "      <th>sadness</th>\n",
       "      <th>disgust</th>\n",
       "      <th>joy</th>\n",
       "      <th>Emotions</th>\n",
       "      <th>Emotions_Value</th>\n",
       "    </tr>\n",
       "  </thead>\n",
       "  <tbody>\n",
       "    <tr>\n",
       "      <th>0</th>\n",
       "      <td>0.0</td>\n",
       "      <td>0.0</td>\n",
       "      <td>0.0</td>\n",
       "      <td>0.000000</td>\n",
       "      <td>0.0</td>\n",
       "      <td>1.000000</td>\n",
       "      <td>0.0</td>\n",
       "      <td>0.0</td>\n",
       "      <td>0.0</td>\n",
       "      <td>0.000000</td>\n",
       "      <td>positive</td>\n",
       "      <td>1.000000</td>\n",
       "    </tr>\n",
       "    <tr>\n",
       "      <th>1</th>\n",
       "      <td>0.0</td>\n",
       "      <td>0.0</td>\n",
       "      <td>0.0</td>\n",
       "      <td>0.166667</td>\n",
       "      <td>0.0</td>\n",
       "      <td>0.333333</td>\n",
       "      <td>0.0</td>\n",
       "      <td>0.0</td>\n",
       "      <td>0.0</td>\n",
       "      <td>0.166667</td>\n",
       "      <td>positive</td>\n",
       "      <td>0.333333</td>\n",
       "    </tr>\n",
       "    <tr>\n",
       "      <th>2</th>\n",
       "      <td>0.0</td>\n",
       "      <td>0.0</td>\n",
       "      <td>0.0</td>\n",
       "      <td>0.000000</td>\n",
       "      <td>0.0</td>\n",
       "      <td>0.000000</td>\n",
       "      <td>0.0</td>\n",
       "      <td>0.0</td>\n",
       "      <td>0.0</td>\n",
       "      <td>0.000000</td>\n",
       "      <td>fear</td>\n",
       "      <td>0.000000</td>\n",
       "    </tr>\n",
       "    <tr>\n",
       "      <th>3</th>\n",
       "      <td>0.0</td>\n",
       "      <td>0.0</td>\n",
       "      <td>0.0</td>\n",
       "      <td>0.333333</td>\n",
       "      <td>0.0</td>\n",
       "      <td>0.333333</td>\n",
       "      <td>0.0</td>\n",
       "      <td>0.0</td>\n",
       "      <td>0.0</td>\n",
       "      <td>0.000000</td>\n",
       "      <td>trust</td>\n",
       "      <td>0.333333</td>\n",
       "    </tr>\n",
       "    <tr>\n",
       "      <th>4</th>\n",
       "      <td>0.0</td>\n",
       "      <td>0.0</td>\n",
       "      <td>0.0</td>\n",
       "      <td>0.166667</td>\n",
       "      <td>0.0</td>\n",
       "      <td>0.333333</td>\n",
       "      <td>0.0</td>\n",
       "      <td>0.0</td>\n",
       "      <td>0.0</td>\n",
       "      <td>0.166667</td>\n",
       "      <td>positive</td>\n",
       "      <td>0.333333</td>\n",
       "    </tr>\n",
       "  </tbody>\n",
       "</table>\n",
       "</div>"
      ],
      "text/plain": [
       "   fear  anger  anticip     trust  surprise  positive  negative  sadness  \\\n",
       "0   0.0    0.0      0.0  0.000000       0.0  1.000000       0.0      0.0   \n",
       "1   0.0    0.0      0.0  0.166667       0.0  0.333333       0.0      0.0   \n",
       "2   0.0    0.0      0.0  0.000000       0.0  0.000000       0.0      0.0   \n",
       "3   0.0    0.0      0.0  0.333333       0.0  0.333333       0.0      0.0   \n",
       "4   0.0    0.0      0.0  0.166667       0.0  0.333333       0.0      0.0   \n",
       "\n",
       "   disgust       joy  Emotions  Emotions_Value  \n",
       "0      0.0  0.000000  positive        1.000000  \n",
       "1      0.0  0.166667  positive        0.333333  \n",
       "2      0.0  0.000000      fear        0.000000  \n",
       "3      0.0  0.000000     trust        0.333333  \n",
       "4      0.0  0.166667  positive        0.333333  "
      ]
     },
     "execution_count": 26,
     "metadata": {},
     "output_type": "execute_result"
    }
   ],
   "source": [
    "df1.head()"
   ]
  },
  {
   "cell_type": "code",
   "execution_count": 27,
   "id": "47d3baa4",
   "metadata": {},
   "outputs": [],
   "source": [
    "df1[\"Tweet\"] = df['Tweet']"
   ]
  },
  {
   "cell_type": "code",
   "execution_count": 28,
   "id": "c9d9840b",
   "metadata": {},
   "outputs": [
    {
     "data": {
      "text/html": [
       "<div>\n",
       "<style scoped>\n",
       "    .dataframe tbody tr th:only-of-type {\n",
       "        vertical-align: middle;\n",
       "    }\n",
       "\n",
       "    .dataframe tbody tr th {\n",
       "        vertical-align: top;\n",
       "    }\n",
       "\n",
       "    .dataframe thead th {\n",
       "        text-align: right;\n",
       "    }\n",
       "</style>\n",
       "<table border=\"1\" class=\"dataframe\">\n",
       "  <thead>\n",
       "    <tr style=\"text-align: right;\">\n",
       "      <th></th>\n",
       "      <th>fear</th>\n",
       "      <th>anger</th>\n",
       "      <th>anticip</th>\n",
       "      <th>trust</th>\n",
       "      <th>surprise</th>\n",
       "      <th>positive</th>\n",
       "      <th>negative</th>\n",
       "      <th>sadness</th>\n",
       "      <th>disgust</th>\n",
       "      <th>joy</th>\n",
       "      <th>Emotions</th>\n",
       "      <th>Emotions_Value</th>\n",
       "      <th>Tweet</th>\n",
       "    </tr>\n",
       "  </thead>\n",
       "  <tbody>\n",
       "    <tr>\n",
       "      <th>0</th>\n",
       "      <td>0.0</td>\n",
       "      <td>0.0</td>\n",
       "      <td>0.0</td>\n",
       "      <td>0.000000</td>\n",
       "      <td>0.0</td>\n",
       "      <td>1.000000</td>\n",
       "      <td>0.0</td>\n",
       "      <td>0.0</td>\n",
       "      <td>0.0</td>\n",
       "      <td>0.000000</td>\n",
       "      <td>positive</td>\n",
       "      <td>1.000000</td>\n",
       "      <td>Some customer came said looked like fairy thatll there with best thing anyone said</td>\n",
       "    </tr>\n",
       "    <tr>\n",
       "      <th>1</th>\n",
       "      <td>0.0</td>\n",
       "      <td>0.0</td>\n",
       "      <td>0.0</td>\n",
       "      <td>0.166667</td>\n",
       "      <td>0.0</td>\n",
       "      <td>0.333333</td>\n",
       "      <td>0.0</td>\n",
       "      <td>0.0</td>\n",
       "      <td>0.0</td>\n",
       "      <td>0.166667</td>\n",
       "      <td>positive</td>\n",
       "      <td>0.333333</td>\n",
       "      <td>here help Please share your mobile number registered with Paytm that paytm handle customer care number8260429689 Thanks</td>\n",
       "    </tr>\n",
       "    <tr>\n",
       "      <th>2</th>\n",
       "      <td>0.0</td>\n",
       "      <td>0.0</td>\n",
       "      <td>0.0</td>\n",
       "      <td>0.000000</td>\n",
       "      <td>0.0</td>\n",
       "      <td>0.000000</td>\n",
       "      <td>0.0</td>\n",
       "      <td>0.0</td>\n",
       "      <td>0.0</td>\n",
       "      <td>0.000000</td>\n",
       "      <td>fear</td>\n",
       "      <td>0.000000</td>\n",
       "      <td>Stop tellin Chris Rock That fresh Skibbity front MILLIONS that</td>\n",
       "    </tr>\n",
       "    <tr>\n",
       "      <th>3</th>\n",
       "      <td>0.0</td>\n",
       "      <td>0.0</td>\n",
       "      <td>0.0</td>\n",
       "      <td>0.333333</td>\n",
       "      <td>0.0</td>\n",
       "      <td>0.333333</td>\n",
       "      <td>0.0</td>\n",
       "      <td>0.0</td>\n",
       "      <td>0.0</td>\n",
       "      <td>0.000000</td>\n",
       "      <td>trust</td>\n",
       "      <td>0.333333</td>\n",
       "      <td>_gadkari Order OET261370523081022WDO125 scooter delivered after month team call every time when called customer care They took Lakh amount even cancelling order centre govt</td>\n",
       "    </tr>\n",
       "    <tr>\n",
       "      <th>4</th>\n",
       "      <td>0.0</td>\n",
       "      <td>0.0</td>\n",
       "      <td>0.0</td>\n",
       "      <td>0.166667</td>\n",
       "      <td>0.0</td>\n",
       "      <td>0.333333</td>\n",
       "      <td>0.0</td>\n",
       "      <td>0.0</td>\n",
       "      <td>0.0</td>\n",
       "      <td>0.166667</td>\n",
       "      <td>positive</td>\n",
       "      <td>0.333333</td>\n",
       "      <td>here help Please share your mobile number registered with Paytm that paytm handle customer care number8260429689 Thanks</td>\n",
       "    </tr>\n",
       "  </tbody>\n",
       "</table>\n",
       "</div>"
      ],
      "text/plain": [
       "   fear  anger  anticip     trust  surprise  positive  negative  sadness  \\\n",
       "0   0.0    0.0      0.0  0.000000       0.0  1.000000       0.0      0.0   \n",
       "1   0.0    0.0      0.0  0.166667       0.0  0.333333       0.0      0.0   \n",
       "2   0.0    0.0      0.0  0.000000       0.0  0.000000       0.0      0.0   \n",
       "3   0.0    0.0      0.0  0.333333       0.0  0.333333       0.0      0.0   \n",
       "4   0.0    0.0      0.0  0.166667       0.0  0.333333       0.0      0.0   \n",
       "\n",
       "   disgust       joy  Emotions  Emotions_Value  \\\n",
       "0      0.0  0.000000  positive        1.000000   \n",
       "1      0.0  0.166667  positive        0.333333   \n",
       "2      0.0  0.000000      fear        0.000000   \n",
       "3      0.0  0.000000     trust        0.333333   \n",
       "4      0.0  0.166667  positive        0.333333   \n",
       "\n",
       "                                                                                                                                                                          Tweet  \n",
       "0                                                                                            Some customer came said looked like fairy thatll there with best thing anyone said  \n",
       "1                                                       here help Please share your mobile number registered with Paytm that paytm handle customer care number8260429689 Thanks  \n",
       "2                                                                                                                Stop tellin Chris Rock That fresh Skibbity front MILLIONS that  \n",
       "3  _gadkari Order OET261370523081022WDO125 scooter delivered after month team call every time when called customer care They took Lakh amount even cancelling order centre govt  \n",
       "4                                                       here help Please share your mobile number registered with Paytm that paytm handle customer care number8260429689 Thanks  "
      ]
     },
     "execution_count": 28,
     "metadata": {},
     "output_type": "execute_result"
    }
   ],
   "source": [
    "df1.head()"
   ]
  },
  {
   "cell_type": "code",
   "execution_count": 29,
   "id": "91b28724",
   "metadata": {},
   "outputs": [
    {
     "data": {
      "text/plain": [
       "array(['positive', 'fear', 'trust', 'anger', 'negative', 'surprise'],\n",
       "      dtype=object)"
      ]
     },
     "execution_count": 29,
     "metadata": {},
     "output_type": "execute_result"
    }
   ],
   "source": [
    "df1['Emotions'].unique()"
   ]
  },
  {
   "cell_type": "code",
   "execution_count": 30,
   "id": "b99b4f1b",
   "metadata": {},
   "outputs": [],
   "source": [
    "counts = df1['Emotions'].value_counts()"
   ]
  },
  {
   "cell_type": "code",
   "execution_count": 31,
   "id": "9bef50b8",
   "metadata": {},
   "outputs": [
    {
     "data": {
      "text/plain": [
       "positive    116\n",
       "trust        29\n",
       "fear         20\n",
       "negative     16\n",
       "anger        14\n",
       "surprise      5\n",
       "Name: Emotions, dtype: int64"
      ]
     },
     "execution_count": 31,
     "metadata": {},
     "output_type": "execute_result"
    }
   ],
   "source": [
    "counts"
   ]
  },
  {
   "cell_type": "code",
   "execution_count": 33,
   "id": "1ee36682",
   "metadata": {},
   "outputs": [
    {
     "data": {
      "image/png": "[encoded data removed]",
      "text/plain": [
       "<Figure size 432x288 with 1 Axes>"
      ]
     },
     "metadata": {
      "needs_background": "light"
     },
     "output_type": "display_data"
    },
    {
     "data": {
      "text/plain": [
       "<Figure size 3240x1440 with 0 Axes>"
      ]
     },
     "metadata": {},
     "output_type": "display_data"
    }
   ],
   "source": [
    "ax = counts.plot(kind='bar')\n",
    "ax.set_title('Bar plot of Emotion counts')\n",
    "ax.set_xlabel('Emotions')\n",
    "ax.set_ylabel('Count')\n",
    "ax.tick_params(axis='x', labelsize=15, rotation=45)\n",
    "ax.tick_params(axis='y', labelsize=13)\n",
    "plt.figure(figsize=(45,20)) \n",
    "\n",
    "# Display the values on top of the bars\n",
    "for p in ax.patches:\n",
    "    ax.text(p.get_x() + p.get_width() / 2., p.get_height(), '%.2f' % p.get_height(), \n",
    "            fontsize=12, color='black', ha='center', va='bottom')\n",
    "\n",
    "plt.show()"
   ]
  },
  {
   "cell_type": "code",
   "execution_count": 171,
   "id": "c40dcf8f",
   "metadata": {},
   "outputs": [],
   "source": [
    "df1.to_csv(\"For_Power_BI.csv\")"
   ]
  },
  {
   "cell_type": "code",
   "execution_count": 34,
   "id": "fcf6bed1",
   "metadata": {},
   "outputs": [],
   "source": [
    "#  Textblob for Getting Subjectivity and Polarity Score"
   ]
  },
  {
   "cell_type": "code",
   "execution_count": 40,
   "id": "861db833",
   "metadata": {},
   "outputs": [],
   "source": [
    "from textblob import TextBlob"
   ]
  },
  {
   "cell_type": "code",
   "execution_count": 37,
   "id": "f1091741",
   "metadata": {},
   "outputs": [],
   "source": [
    "# Create a function to get the subjectivity\n",
    "def getSubjectivity(text):\n",
    "  return TextBlob(text).sentiment.subjectivity\n",
    "\n",
    "#Creat a function to get the Polarity\n",
    "def getPolarity(text):\n",
    "  return TextBlob(text).sentiment.polarity"
   ]
  },
  {
   "cell_type": "code",
   "execution_count": 38,
   "id": "24bff440",
   "metadata": {},
   "outputs": [],
   "source": [
    "#Create a functiion to compute negative, neutral and Positive analysis\n",
    "def getAnalysis(score):\n",
    "  if score < 0:\n",
    "    return 'Negative'\n",
    "  elif score == 0:\n",
    "    return 'Neutral'\n",
    "  else:\n",
    "    return 'Positive'"
   ]
  },
  {
   "cell_type": "code",
   "execution_count": 55,
   "id": "db837a54",
   "metadata": {},
   "outputs": [],
   "source": [
    "df_tb = df.copy()"
   ]
  },
  {
   "cell_type": "code",
   "execution_count": 56,
   "id": "cf7cbcb5",
   "metadata": {},
   "outputs": [
    {
     "data": {
      "text/html": [
       "<div>\n",
       "<style scoped>\n",
       "    .dataframe tbody tr th:only-of-type {\n",
       "        vertical-align: middle;\n",
       "    }\n",
       "\n",
       "    .dataframe tbody tr th {\n",
       "        vertical-align: top;\n",
       "    }\n",
       "\n",
       "    .dataframe thead th {\n",
       "        text-align: right;\n",
       "    }\n",
       "</style>\n",
       "<table border=\"1\" class=\"dataframe\">\n",
       "  <thead>\n",
       "    <tr style=\"text-align: right;\">\n",
       "      <th></th>\n",
       "      <th>Name</th>\n",
       "      <th>Tweet_Date</th>\n",
       "      <th>Tweet</th>\n",
       "      <th>Subjectivity</th>\n",
       "      <th>Polarity</th>\n",
       "    </tr>\n",
       "  </thead>\n",
       "  <tbody>\n",
       "    <tr>\n",
       "      <th>0</th>\n",
       "      <td>Ally_Kayyy</td>\n",
       "      <td>2023-03-04 23:59</td>\n",
       "      <td>Some customer came said looked like fairy thatll there with best things anyone said</td>\n",
       "      <td>0.3</td>\n",
       "      <td>1.0</td>\n",
       "    </tr>\n",
       "    <tr>\n",
       "      <th>1</th>\n",
       "      <td>PaytmBa74630656</td>\n",
       "      <td>2023-03-04 23:59</td>\n",
       "      <td>here help Please share your mobile number registered with Paytm that paytm handle customer care number8260429689 Thanks</td>\n",
       "      <td>0.2</td>\n",
       "      <td>0.2</td>\n",
       "    </tr>\n",
       "    <tr>\n",
       "      <th>2</th>\n",
       "      <td>_Marquita_R</td>\n",
       "      <td>2023-03-04 23:59</td>\n",
       "      <td>Stop tellin Chris Rock That fresh Skibbity front MILLIONS that</td>\n",
       "      <td>0.5</td>\n",
       "      <td>0.3</td>\n",
       "    </tr>\n",
       "    <tr>\n",
       "      <th>3</th>\n",
       "      <td>pkrao20</td>\n",
       "      <td>2023-03-04 23:59</td>\n",
       "      <td>_gadkari Order OET261370523081022WDO125 scooter delivered after months team call every time when called customer care They took Lakh amount even cancelling order centre govt</td>\n",
       "      <td>0.0</td>\n",
       "      <td>0.0</td>\n",
       "    </tr>\n",
       "    <tr>\n",
       "      <th>4</th>\n",
       "      <td>PaytmBa74630656</td>\n",
       "      <td>2023-03-04 23:59</td>\n",
       "      <td>here help Please share your mobile number registered with Paytm that paytm handle customer care number8260429689 Thanks</td>\n",
       "      <td>0.2</td>\n",
       "      <td>0.2</td>\n",
       "    </tr>\n",
       "  </tbody>\n",
       "</table>\n",
       "</div>"
      ],
      "text/plain": [
       "              Name        Tweet_Date  \\\n",
       "0       Ally_Kayyy  2023-03-04 23:59   \n",
       "1  PaytmBa74630656  2023-03-04 23:59   \n",
       "2      _Marquita_R  2023-03-04 23:59   \n",
       "3          pkrao20  2023-03-04 23:59   \n",
       "4  PaytmBa74630656  2023-03-04 23:59   \n",
       "\n",
       "                                                                                                                                                                           Tweet  \\\n",
       "0                                                                                            Some customer came said looked like fairy thatll there with best things anyone said   \n",
       "1                                                        here help Please share your mobile number registered with Paytm that paytm handle customer care number8260429689 Thanks   \n",
       "2                                                                                                                 Stop tellin Chris Rock That fresh Skibbity front MILLIONS that   \n",
       "3  _gadkari Order OET261370523081022WDO125 scooter delivered after months team call every time when called customer care They took Lakh amount even cancelling order centre govt   \n",
       "4                                                        here help Please share your mobile number registered with Paytm that paytm handle customer care number8260429689 Thanks   \n",
       "\n",
       "   Subjectivity  Polarity  \n",
       "0           0.3       1.0  \n",
       "1           0.2       0.2  \n",
       "2           0.5       0.3  \n",
       "3           0.0       0.0  \n",
       "4           0.2       0.2  "
      ]
     },
     "execution_count": 56,
     "metadata": {},
     "output_type": "execute_result"
    }
   ],
   "source": [
    "#Create two new columns\n",
    "df_tb['Subjectivity'] = df['Tweet'].apply(getSubjectivity)\n",
    "df_tb['Polarity'] = df['Tweet'].apply(getPolarity)\n",
    "\n",
    "#Show new dataframe with new columns\n",
    "df_tb.head()"
   ]
  },
  {
   "cell_type": "code",
   "execution_count": 57,
   "id": "213dd51c",
   "metadata": {},
   "outputs": [
    {
     "data": {
      "text/html": [
       "<div>\n",
       "<style scoped>\n",
       "    .dataframe tbody tr th:only-of-type {\n",
       "        vertical-align: middle;\n",
       "    }\n",
       "\n",
       "    .dataframe tbody tr th {\n",
       "        vertical-align: top;\n",
       "    }\n",
       "\n",
       "    .dataframe thead th {\n",
       "        text-align: right;\n",
       "    }\n",
       "</style>\n",
       "<table border=\"1\" class=\"dataframe\">\n",
       "  <thead>\n",
       "    <tr style=\"text-align: right;\">\n",
       "      <th></th>\n",
       "      <th>Name</th>\n",
       "      <th>Tweet_Date</th>\n",
       "      <th>Tweet</th>\n",
       "      <th>Subjectivity</th>\n",
       "      <th>Polarity</th>\n",
       "      <th>Analysis</th>\n",
       "    </tr>\n",
       "  </thead>\n",
       "  <tbody>\n",
       "    <tr>\n",
       "      <th>0</th>\n",
       "      <td>Ally_Kayyy</td>\n",
       "      <td>2023-03-04 23:59</td>\n",
       "      <td>Some customer came said looked like fairy thatll there with best things anyone said</td>\n",
       "      <td>0.3</td>\n",
       "      <td>1.0</td>\n",
       "      <td>Positive</td>\n",
       "    </tr>\n",
       "    <tr>\n",
       "      <th>1</th>\n",
       "      <td>PaytmBa74630656</td>\n",
       "      <td>2023-03-04 23:59</td>\n",
       "      <td>here help Please share your mobile number registered with Paytm that paytm handle customer care number8260429689 Thanks</td>\n",
       "      <td>0.2</td>\n",
       "      <td>0.2</td>\n",
       "      <td>Positive</td>\n",
       "    </tr>\n",
       "    <tr>\n",
       "      <th>2</th>\n",
       "      <td>_Marquita_R</td>\n",
       "      <td>2023-03-04 23:59</td>\n",
       "      <td>Stop tellin Chris Rock That fresh Skibbity front MILLIONS that</td>\n",
       "      <td>0.5</td>\n",
       "      <td>0.3</td>\n",
       "      <td>Positive</td>\n",
       "    </tr>\n",
       "    <tr>\n",
       "      <th>3</th>\n",
       "      <td>pkrao20</td>\n",
       "      <td>2023-03-04 23:59</td>\n",
       "      <td>_gadkari Order OET261370523081022WDO125 scooter delivered after months team call every time when called customer care They took Lakh amount even cancelling order centre govt</td>\n",
       "      <td>0.0</td>\n",
       "      <td>0.0</td>\n",
       "      <td>Neutral</td>\n",
       "    </tr>\n",
       "    <tr>\n",
       "      <th>4</th>\n",
       "      <td>PaytmBa74630656</td>\n",
       "      <td>2023-03-04 23:59</td>\n",
       "      <td>here help Please share your mobile number registered with Paytm that paytm handle customer care number8260429689 Thanks</td>\n",
       "      <td>0.2</td>\n",
       "      <td>0.2</td>\n",
       "      <td>Positive</td>\n",
       "    </tr>\n",
       "  </tbody>\n",
       "</table>\n",
       "</div>"
      ],
      "text/plain": [
       "              Name        Tweet_Date  \\\n",
       "0       Ally_Kayyy  2023-03-04 23:59   \n",
       "1  PaytmBa74630656  2023-03-04 23:59   \n",
       "2      _Marquita_R  2023-03-04 23:59   \n",
       "3          pkrao20  2023-03-04 23:59   \n",
       "4  PaytmBa74630656  2023-03-04 23:59   \n",
       "\n",
       "                                                                                                                                                                           Tweet  \\\n",
       "0                                                                                            Some customer came said looked like fairy thatll there with best things anyone said   \n",
       "1                                                        here help Please share your mobile number registered with Paytm that paytm handle customer care number8260429689 Thanks   \n",
       "2                                                                                                                 Stop tellin Chris Rock That fresh Skibbity front MILLIONS that   \n",
       "3  _gadkari Order OET261370523081022WDO125 scooter delivered after months team call every time when called customer care They took Lakh amount even cancelling order centre govt   \n",
       "4                                                        here help Please share your mobile number registered with Paytm that paytm handle customer care number8260429689 Thanks   \n",
       "\n",
       "   Subjectivity  Polarity  Analysis  \n",
       "0           0.3       1.0  Positive  \n",
       "1           0.2       0.2  Positive  \n",
       "2           0.5       0.3  Positive  \n",
       "3           0.0       0.0   Neutral  \n",
       "4           0.2       0.2  Positive  "
      ]
     },
     "execution_count": 57,
     "metadata": {},
     "output_type": "execute_result"
    }
   ],
   "source": [
    "df_tb['Analysis'] = df_tb['Polarity'].apply(getAnalysis)\n",
    "\n",
    "# Show the df\n",
    "df_tb.head()"
   ]
  },
  {
   "cell_type": "code",
   "execution_count": 62,
   "id": "640c5fe1",
   "metadata": {},
   "outputs": [],
   "source": [
    "df_tb[\"Sentiment_NRCLex\"] = df1[\"Emotions\"]\n",
    "df_tb[\"NRCLex_Emotion_Value\"] = df1[\"Emotions_Value\"]"
   ]
  },
  {
   "cell_type": "code",
   "execution_count": 63,
   "id": "1ceb9777",
   "metadata": {},
   "outputs": [
    {
     "data": {
      "text/html": [
       "<div>\n",
       "<style scoped>\n",
       "    .dataframe tbody tr th:only-of-type {\n",
       "        vertical-align: middle;\n",
       "    }\n",
       "\n",
       "    .dataframe tbody tr th {\n",
       "        vertical-align: top;\n",
       "    }\n",
       "\n",
       "    .dataframe thead th {\n",
       "        text-align: right;\n",
       "    }\n",
       "</style>\n",
       "<table border=\"1\" class=\"dataframe\">\n",
       "  <thead>\n",
       "    <tr style=\"text-align: right;\">\n",
       "      <th></th>\n",
       "      <th>Name</th>\n",
       "      <th>Tweet_Date</th>\n",
       "      <th>Tweet</th>\n",
       "      <th>Subjectivity</th>\n",
       "      <th>Polarity</th>\n",
       "      <th>Analysis</th>\n",
       "      <th>Sentiment_NRCLex</th>\n",
       "      <th>NRCLex_Emotion_Value</th>\n",
       "    </tr>\n",
       "  </thead>\n",
       "  <tbody>\n",
       "    <tr>\n",
       "      <th>0</th>\n",
       "      <td>Ally_Kayyy</td>\n",
       "      <td>2023-03-04 23:59</td>\n",
       "      <td>Some customer came said looked like fairy thatll there with best things anyone said</td>\n",
       "      <td>0.3</td>\n",
       "      <td>1.0</td>\n",
       "      <td>Positive</td>\n",
       "      <td>positive</td>\n",
       "      <td>1.000000</td>\n",
       "    </tr>\n",
       "    <tr>\n",
       "      <th>1</th>\n",
       "      <td>PaytmBa74630656</td>\n",
       "      <td>2023-03-04 23:59</td>\n",
       "      <td>here help Please share your mobile number registered with Paytm that paytm handle customer care number8260429689 Thanks</td>\n",
       "      <td>0.2</td>\n",
       "      <td>0.2</td>\n",
       "      <td>Positive</td>\n",
       "      <td>positive</td>\n",
       "      <td>0.333333</td>\n",
       "    </tr>\n",
       "    <tr>\n",
       "      <th>2</th>\n",
       "      <td>_Marquita_R</td>\n",
       "      <td>2023-03-04 23:59</td>\n",
       "      <td>Stop tellin Chris Rock That fresh Skibbity front MILLIONS that</td>\n",
       "      <td>0.5</td>\n",
       "      <td>0.3</td>\n",
       "      <td>Positive</td>\n",
       "      <td>fear</td>\n",
       "      <td>0.000000</td>\n",
       "    </tr>\n",
       "    <tr>\n",
       "      <th>3</th>\n",
       "      <td>pkrao20</td>\n",
       "      <td>2023-03-04 23:59</td>\n",
       "      <td>_gadkari Order OET261370523081022WDO125 scooter delivered after months team call every time when called customer care They took Lakh amount even cancelling order centre govt</td>\n",
       "      <td>0.0</td>\n",
       "      <td>0.0</td>\n",
       "      <td>Neutral</td>\n",
       "      <td>trust</td>\n",
       "      <td>0.333333</td>\n",
       "    </tr>\n",
       "    <tr>\n",
       "      <th>4</th>\n",
       "      <td>PaytmBa74630656</td>\n",
       "      <td>2023-03-04 23:59</td>\n",
       "      <td>here help Please share your mobile number registered with Paytm that paytm handle customer care number8260429689 Thanks</td>\n",
       "      <td>0.2</td>\n",
       "      <td>0.2</td>\n",
       "      <td>Positive</td>\n",
       "      <td>positive</td>\n",
       "      <td>0.333333</td>\n",
       "    </tr>\n",
       "  </tbody>\n",
       "</table>\n",
       "</div>"
      ],
      "text/plain": [
       "              Name        Tweet_Date  \\\n",
       "0       Ally_Kayyy  2023-03-04 23:59   \n",
       "1  PaytmBa74630656  2023-03-04 23:59   \n",
       "2      _Marquita_R  2023-03-04 23:59   \n",
       "3          pkrao20  2023-03-04 23:59   \n",
       "4  PaytmBa74630656  2023-03-04 23:59   \n",
       "\n",
       "                                                                                                                                                                           Tweet  \\\n",
       "0                                                                                            Some customer came said looked like fairy thatll there with best things anyone said   \n",
       "1                                                        here help Please share your mobile number registered with Paytm that paytm handle customer care number8260429689 Thanks   \n",
       "2                                                                                                                 Stop tellin Chris Rock That fresh Skibbity front MILLIONS that   \n",
       "3  _gadkari Order OET261370523081022WDO125 scooter delivered after months team call every time when called customer care They took Lakh amount even cancelling order centre govt   \n",
       "4                                                        here help Please share your mobile number registered with Paytm that paytm handle customer care number8260429689 Thanks   \n",
       "\n",
       "   Subjectivity  Polarity  Analysis Sentiment_NRCLex  NRCLex_Emotion_Value  \n",
       "0           0.3       1.0  Positive         positive              1.000000  \n",
       "1           0.2       0.2  Positive         positive              0.333333  \n",
       "2           0.5       0.3  Positive             fear              0.000000  \n",
       "3           0.0       0.0   Neutral            trust              0.333333  \n",
       "4           0.2       0.2  Positive         positive              0.333333  "
      ]
     },
     "execution_count": 63,
     "metadata": {},
     "output_type": "execute_result"
    }
   ],
   "source": [
    "df_tb.head()"
   ]
  },
  {
   "cell_type": "code",
   "execution_count": 70,
   "id": "27c1779b",
   "metadata": {},
   "outputs": [],
   "source": [
    "df_value_counts = df_tb['Analysis'].value_counts()"
   ]
  },
  {
   "cell_type": "code",
   "execution_count": 71,
   "id": "df38a584",
   "metadata": {},
   "outputs": [
    {
     "data": {
      "text/plain": [
       "<AxesSubplot:>"
      ]
     },
     "execution_count": 71,
     "metadata": {},
     "output_type": "execute_result"
    },
    {
     "data": {
      "image/png": "[encoded data removed]",
      "text/plain": [
       "<Figure size 432x288 with 1 Axes>"
      ]
     },
     "metadata": {
      "needs_background": "light"
     },
     "output_type": "display_data"
    }
   ],
   "source": [
    "df_value_counts.plot.bar()"
   ]
  },
  {
   "cell_type": "code",
   "execution_count": 74,
   "id": "d59d1241",
   "metadata": {},
   "outputs": [
    {
     "data": {
      "image/png": "[encoded data removed]",
      "text/plain": [
       "<Figure size 432x288 with 1 Axes>"
      ]
     },
     "metadata": {
      "needs_background": "light"
     },
     "output_type": "display_data"
    }
   ],
   "source": [
    "# create a bar plot from the counts\n",
    "ax = df_value_counts.plot.bar(rot=90)\n",
    "# add data labels to the bars\n",
    "for i, v in enumerate(df_value_counts):\n",
    "    ax.text(i - 0.1, v + 0.5, str(v))\n",
    "    \n",
    "# set the axis labels and title\n",
    "plt.xlabel('Sentiment')\n",
    "plt.ylabel('Count')\n",
    "plt.title('Sentiment Counts')\n",
    "\n",
    "# display the plot\n",
    "plt.show()"
   ]
  },
  {
   "cell_type": "code",
   "execution_count": 75,
   "id": "c59da90e",
   "metadata": {},
   "outputs": [
    {
     "data": {
      "image/png": "[encoded data removed]",
      "text/plain": [
       "<Figure size 576x432 with 1 Axes>"
      ]
     },
     "metadata": {
      "needs_background": "light"
     },
     "output_type": "display_data"
    }
   ],
   "source": [
    "# Polt the polarity and Subjectivity\n",
    "plt.figure(figsize=(8,6))\n",
    "for i in range(0, df.shape[0]):\n",
    "  plt.scatter(df_tb['Polarity'][i],df_tb['Subjectivity'][i], color = 'Blue')\n",
    "\n",
    "plt.title('Sentiment Analysis')\n",
    "plt.xlabel('Polarity')\n",
    "plt.ylabel('Subjectivity')\n",
    "plt.show()"
   ]
  },
  {
   "cell_type": "code",
   "execution_count": null,
   "id": "e3c7153d",
   "metadata": {},
   "outputs": [],
   "source": []
  }
 ],
 "metadata": {
  "kernelspec": {
   "display_name": "Python 3 (ipykernel)",
   "language": "python",
   "name": "python3"
  },
  "language_info": {
   "codemirror_mode": {
    "name": "ipython",
    "version": 3
   },
   "file_extension": ".py",
   "mimetype": "text/x-python",
   "name": "python",
   "nbconvert_exporter": "python",
   "pygments_lexer": "ipython3",
   "version": "3.8.12"
  }
 },
 "nbformat": 4,
 "nbformat_minor": 5
}
